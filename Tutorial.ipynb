{
 "cells": [
  {
   "cell_type": "markdown",
   "metadata": {},
   "source": [
    "Tài liệu này mang giấy phép Creative Commons Attribution (CC BY). (c) Nguyễn Ngọc Sáng, Zhukovsky 03/2020.\n",
    "\n",
    "[@SangVn](https://github.com/SangVn) [@VnCFD](https://vncfdgroup.wordpress.com/)\n",
    "\n",
    "*Thực hành CFD với Python!*"
   ]
  },
  {
   "cell_type": "markdown",
   "metadata": {},
   "source": [
    "# <center>VnCFD_2D_v2 !</center>\n",
    "\n",
    "**VnCFD_2D_v2** là chương trình mô phỏng khí động lực học chuyển động dòng chảy không nhớt trong không gian hai chiều, giải hệ phương trình Euler 2D. So với phiên bản 1 VnCFD_2D_v1, phiên bản hai có nhiều thay đổi. Các thay đổi chính bao gồm:\n",
    "\n",
    "* Sử dụng Python 3.7\n",
    "* Tăng tốc độ tính toán lên **gấp 5 lần** bằng cách sử dụng hàm tính dòng được viết trên ngôn ngữ FORTRAN, so với việc sử dụng hàm dòng viết bằng Python.\n",
    "* Cấu trúc dữ liệu thay đổi để phù hợp với **lưới nhiều blocks**.\n",
    "* Mở rộng thêm các điều kiện biên để phù hợp với lưới nhiều block, để có thể đặt nhiều điều kiện biên trên một biên, và thêm các điều kiện biên subsonic.\n",
    "* Rút gọn các lệnh chạy chương trình, việc sử dụng chương trình  trở nên rất thuận tiện. \n",
    "\n",
    "**Sau đây ta xem xét cụ thể các thay đổi và cách sử dụng.**\n",
    "\n",
    "**VnCFD_2D_v2** sử dụng ngôn ngữ **python3.7, numpy1.17, matplotlib3.1** được viết trên **PyCharm Community 2019.3**, sử dụng **Anaconda3 Environment** (xem file `lib/anaconda3_envs_VnCFD_2D_v2.yml`)."
   ]
  },
  {
   "cell_type": "markdown",
   "metadata": {},
   "source": [
    "# 1. Tăng tốc độ tính toán bằng FORTRAN \n",
    "\n",
    "Để tăng tốc độ tính toán chương trình Python ta có nhiều cách khác nhau như sử dụng Cython, Numba [link](https://nbviewer.jupyter.org/github/SangVn/tang_toc_python_code/blob/master/tang_toc_python_code.ipynb) hay sử dụng các hàm được viết bằng FORTRAN. Trong phiên bản v2 VnCFD_2D, hàm tính dòng được viết bằng cả hai ngôn ngữ Python và FORTRAN. Trong module \"fluxes.py\" có hai hàm tính dòng `flux_roe_python và flux_roe_fortran`. Hàm `flux_roe_fortran` gọi hàm `roe` trong module `fluxes_fortran`. Module FORTRAN không thể gọi trực tiếp trong Python. Để sử dụng nó ta cần chuyển sang file Python bằng cách sử dụng hàm **F2PY**  trong thư viện `numpy`. Thông tin cụ thể tại [https://www.numfys.net/howto/F2PY/]. \n",
    "\n",
    "Rõ ràng, chúng ta cần có trình biên dịch `gfortran`. Trên linux sử dụng lệnh:\n",
    "<br><center>`sudo apt-get install gfortran`.</center></br> \n",
    "Để chuyển module FORTRAN sang Python, dùng lệnh:\n",
    "<br><center> `python -m numpy.f2py -c fluxes_fortran.f90 -m fluxes_fortran`.</center></br>\n",
    "Xuất hiện module **fluxes_fortran.so** mà Python có thể gọi trực tiếp. Cách gọi giống như gọi module Python thông thường.\n",
    "\n",
    "So sánh tốc độ tính toán khi sử dụng hai hàm tính dòng này sẽ được xem xét cụ thể trong phần hướng dẫn thực hành."
   ]
  },
  {
   "cell_type": "markdown",
   "metadata": {},
   "source": [
    "# 2. Cấu trúc dữ liệu \n",
    "\n",
    "Trong version 1 có 4 lớp dữ liệu cơ bản: **Side, Sides, Cell, Cells**, ngoài ra phải tính đến **points** là một `numpy.array`. Version 2 có thêm hai lớp dữ liệu: **Block, Blocks**, points được đổi tên thành **nodes**. Mỗi **Block** chứa ba đối tượng **Sides, Cells** và **nodes**. **Blocks** chứa một hoặc nhiều **Block**.\n",
    "\n",
    "Để xem phần mô tả các classes này có thể sử dụng các câu lệnh **help(class_name), print(class_name.__doc__)**.\n",
    "\n",
    "**Cụ thể thông tin của các classes:** "
   ]
  },
  {
   "cell_type": "code",
   "execution_count": 1,
   "metadata": {},
   "outputs": [],
   "source": [
    "import lib.data as Classes"
   ]
  },
  {
   "cell_type": "markdown",
   "metadata": {},
   "source": [
    "## 2.1 Class Cell"
   ]
  },
  {
   "cell_type": "code",
   "execution_count": 2,
   "metadata": {},
   "outputs": [
    {
     "name": "stdout",
     "output_type": "stream",
     "text": [
      "\n",
      "    Lớp dữ liệu Cell chứa  các thông số cơ bản của một ô lưới.\n",
      "    Parameters\n",
      "    ----------\n",
      "    vertices : 4 đỉnh lưới theo thứ tự ngược chiều KĐH dùng để xác định center, volume, size\n",
      "\n",
      "    Attributes\n",
      "    ----------\n",
      "    center: tạo độ tâm\n",
      "    volume: thể tích\n",
      "    size:   kích thước\n",
      "    P:   biến nguyên thủy (rho, u, v, p)\n",
      "    U:   biến bảo toàn (rho, rho*u, rho*v, e), e = p/(gamma-1) + rho*(u^2 + v^2)/2\n",
      "    res: biến tổng dòng qua các bề mặt sum(F*S)\n",
      "    dt:  bước thời gian trong ô lưới.\n",
      "\n",
      "    Notes\n",
      "    -----\n",
      "    Tại thời điểm khởi tạo P, U, res, dt bằng 0\n",
      "    \n"
     ]
    }
   ],
   "source": [
    "print(Classes.Cell.__doc__)"
   ]
  },
  {
   "cell_type": "markdown",
   "metadata": {},
   "source": [
    "## 2.2 Class Cells "
   ]
  },
  {
   "cell_type": "code",
   "execution_count": 3,
   "metadata": {},
   "outputs": [
    {
     "name": "stdout",
     "output_type": "stream",
     "text": [
      "Help on class Cells in module lib.data:\n",
      "\n",
      "class Cells(builtins.object)\n",
      " |  Cells(nodes)\n",
      " |  \n",
      " |  Lớp dữ liệu các ô lưới trong một block (zone).\n",
      " |  \n",
      " |  Parameters\n",
      " |  ----------\n",
      " |  nodes : mảng 2D các tọa độ các điểm lưới có kích thước (Nj+1)*(Ni+1)\n",
      " |  \n",
      " |  Attributes\n",
      " |  ----------\n",
      " |  size:  kích thước lưới 2D ([Nj, Ni])\n",
      " |  len:   tổng số ô lưới (Nj*Ni)\n",
      " |  cells: dãy các ô lưới \"class Cell\".\n",
      " |  \n",
      " |  Notes\n",
      " |  -----\n",
      " |  Ô lưới thứ (j,i) (hay thứ j*i) gồm 4 đỉnh [(j,i), (j,i+1), (j+1,i+1), (j+1,i)]\n",
      " |  \n",
      " |  Methods defined here:\n",
      " |  \n",
      " |  __getitem__(self, item)\n",
      " |      Các phương thức cơ bản để lấy các phần tử của dãy các ô lưới \"cells\":\n",
      " |      :param item: có thể là kiểu tuple (j, i), int j*i hay để getslice [start:stop]\n",
      " |      :return: một hoặc một đoạn các ô lưới\n",
      " |  \n",
      " |  __init__(self, nodes)\n",
      " |      Khởi tạo Cells từ mảng nodes.\n",
      " |  \n",
      " |  new_P(self)\n",
      " |      Thực hiện bước lặp: xác định P ở bước thời gian tiếp theo, sử dụng hàm U2P.\n",
      " |  \n",
      " |  new_U(self, dt)\n",
      " |      Thực hiện bước lặp: xác định U ở bước thời gian tiếp theo.\n",
      " |  \n",
      " |  time_step_cell(selfs)\n",
      " |      Tính bước thời gian cục bộ trong từng ô lưới.\n",
      " |  \n",
      " |  time_step_global(self, CFL)\n",
      " |      Xác định bước thời gian cho toàn vùng tính toán block (zone).\n",
      " |      :param CFL: số CFL, phụ thuộc sơ đồ tính toán.\n",
      " |      :return: dt - bước thời gian cho mỗi iteration\n",
      " |  \n",
      " |  ----------------------------------------------------------------------\n",
      " |  Data descriptors defined here:\n",
      " |  \n",
      " |  __dict__\n",
      " |      dictionary for instance variables (if defined)\n",
      " |  \n",
      " |  __weakref__\n",
      " |      list of weak references to the object (if defined)\n",
      "\n"
     ]
    }
   ],
   "source": [
    "help(Classes.Cells)"
   ]
  },
  {
   "cell_type": "markdown",
   "metadata": {},
   "source": [
    "## 2.3 Class Side "
   ]
  },
  {
   "cell_type": "code",
   "execution_count": 4,
   "metadata": {
    "scrolled": true
   },
   "outputs": [
    {
     "name": "stdout",
     "output_type": "stream",
     "text": [
      "\n",
      "    Lớp Side chứa các thông số cơ bản của một bề mặt của ô lưới.\n",
      "\n",
      "    Parameters\n",
      "    ----------\n",
      "    side_vec : vector side = (point2 - point1)\n",
      "\n",
      "    Attributes\n",
      "    ----------\n",
      "    area:   diện tích bề mặt, 2D - chiều dài cạnh\n",
      "    normal: vector pháp tuyến đơn vị\n",
      "    cells:  hai ô lưới hai bên trái phải.\n",
      "            Quy ước: self.cells[0] - ô bên trái, self.cells[1] - ô bên phải\n",
      "    \n"
     ]
    }
   ],
   "source": [
    "print(Classes.Side.__doc__)"
   ]
  },
  {
   "cell_type": "markdown",
   "metadata": {},
   "source": [
    "## 2.4 Class Sides "
   ]
  },
  {
   "cell_type": "code",
   "execution_count": 5,
   "metadata": {},
   "outputs": [
    {
     "name": "stdout",
     "output_type": "stream",
     "text": [
      "Help on class Sides in module lib.data:\n",
      "\n",
      "class Sides(builtins.object)\n",
      " |  Sides(nodes, cells)\n",
      " |  \n",
      " |  Lớp dữ liệu các bề mặt trong một vùng tính toán block (zone).\n",
      " |  Sides gồm hai loại:\n",
      " |      + Side bên trong vùng tính toán\n",
      " |      + Side trên biên\n",
      " |  Quy ước:\n",
      " |      Mỗi vùng tính toán block có 4 biên:\n",
      " |                      bound_3\n",
      " |                     <--------\n",
      " |                 ^               ^\n",
      " |          bound_0|  inner_sides  |bound_1\n",
      " |  \n",
      " |                     <--------\n",
      " |                      bound_2\n",
      " |  Parameters\n",
      " |  ----------\n",
      " |  nodes : mảng chứa tọa độ các điểm lưới\n",
      " |  cells : dãy các ô lưới\n",
      " |  \n",
      " |  Attributes\n",
      " |  ----------\n",
      " |  bounds : list\n",
      " |          [bound_0, bound_1, bound_2, bound_3]\n",
      " |  inner_sides : list\n",
      " |          tất cả các sides bên trong\n",
      " |  boco_list : list\n",
      " |          các điều kiện biên trên 4 biên [boco_bound_0, boco_bound_1, boco_bound_2, boco_bound_3],\n",
      " |          mỗi boco_bound_i là một list các điều kiện biên trên biên i.\n",
      " |  \n",
      " |  Methods defined here:\n",
      " |  \n",
      " |  __init__(self, nodes, cells)\n",
      " |      Khởi tạo Sides từ nodes và cells.\n",
      " |  \n",
      " |  flux_bound_sides(self)\n",
      " |      Tính dòng qua các side trên biên.\n",
      " |  \n",
      " |  flux_inner_sides(self, flux_func)\n",
      " |      Tính dòng qua các sides bên trong vùng tính.\n",
      " |      :param flux_func: hàm tính dòng qua side\n",
      " |  \n",
      " |  set_boco_list(self, boco_list)\n",
      " |      Thiết lập giá trị thuộc tính boco_list.\n",
      " |  \n",
      " |  set_joint(self, boundary_0, boundary_1, ic=0)\n",
      " |      Kết nối các mặt với điều kiện biên joint.\n",
      " |  \n",
      " |  ----------------------------------------------------------------------\n",
      " |  Data descriptors defined here:\n",
      " |  \n",
      " |  __dict__\n",
      " |      dictionary for instance variables (if defined)\n",
      " |  \n",
      " |  __weakref__\n",
      " |      list of weak references to the object (if defined)\n",
      "\n"
     ]
    }
   ],
   "source": [
    "help(Classes.Sides)"
   ]
  },
  {
   "cell_type": "markdown",
   "metadata": {},
   "source": [
    "## 2.5 Class Block "
   ]
  },
  {
   "cell_type": "code",
   "execution_count": 6,
   "metadata": {},
   "outputs": [
    {
     "name": "stdout",
     "output_type": "stream",
     "text": [
      "Help on class Block in module lib.data:\n",
      "\n",
      "class Block(builtins.object)\n",
      " |  Block(name, nodes)\n",
      " |  \n",
      " |  Lớp dữ liệu Block chứa các dữ liệu của một vùng tính toán (block, zone).\n",
      " |  \n",
      " |  Parameters\n",
      " |  ----------\n",
      " |  name  : tên block\n",
      " |  nodes : mảng tọa độ các điểm lưới\n",
      " |  \n",
      " |  Attributes\n",
      " |  ----------\n",
      " |  BField : file chứa trường khí động 'name.field'\n",
      " |  BNodes : các điểm lưới\n",
      " |  BCells : các ô lưới \"class Cells\"\n",
      " |  BSides : các mặt \"class Sides\"\n",
      " |  BSize  : kích thước lưới\n",
      " |  \n",
      " |  Methods defined here:\n",
      " |  \n",
      " |  __init__(self, name, nodes)\n",
      " |      Khởi tạo Block có tên \"name\", có tọa độ điểm lưới \"nodes\".\n",
      " |  \n",
      " |  init_field(self, P_t0)\n",
      " |      Thiết lập trường khí động tại thời điểm ban đầu.\n",
      " |      :param P_t0 : numpy.array(rho, u, v, p)\n",
      " |  \n",
      " |  iteration(self, flux_func, dt)\n",
      " |      Mỗi bước lặp bao gồm:\n",
      " |          set_boco() : xác định các Ghost Ceels\n",
      " |          flux_bound_sides() : tính dòng qua các sides trên biên\n",
      " |          flux_inner_sides() : tính dòng qua các sides trong vùng tính\n",
      " |          new_U : xác định U ở bước thời gian tiếp theo\n",
      " |          new_P : xác định P ở bước thời gian tiếp theo\n",
      " |      \n",
      " |      :param flux_func: hàm tính dòng qua side\n",
      " |      :param dt: bước thời gian\n",
      " |  \n",
      " |  read_field(self)\n",
      " |      Đọc trường khí động từ file binary BField.\n",
      " |  \n",
      " |  write_field(self)\n",
      " |      Ghi trường khí động dạng vào file binary BField.\n",
      " |  \n",
      " |  ----------------------------------------------------------------------\n",
      " |  Data descriptors defined here:\n",
      " |  \n",
      " |  __dict__\n",
      " |      dictionary for instance variables (if defined)\n",
      " |  \n",
      " |  __weakref__\n",
      " |      list of weak references to the object (if defined)\n",
      "\n"
     ]
    }
   ],
   "source": [
    "help(Classes.Block)"
   ]
  },
  {
   "cell_type": "markdown",
   "metadata": {},
   "source": [
    "## 2.6 Class Blocks"
   ]
  },
  {
   "cell_type": "code",
   "execution_count": 7,
   "metadata": {},
   "outputs": [
    {
     "name": "stdout",
     "output_type": "stream",
     "text": [
      "Help on class Blocks in module lib.data:\n",
      "\n",
      "class Blocks(builtins.object)\n",
      " |  Blocks(meshfile='examples/test1D/test1D.mesh')\n",
      " |  \n",
      " |  Lớp dữ liệu Blocks chứa tất cả các blocks trong vùng tính toán và có chức năng thực hiên\n",
      " |  tất cả các bước tính toán khí động.\n",
      " |  \n",
      " |  Parameters\n",
      " |  ----------\n",
      " |  meshfile : file lưới ở định dạng Tecplot\n",
      " |  \n",
      " |  Attributes\n",
      " |  ----------\n",
      " |  len:\n",
      " |          số lượng các blocks\n",
      " |  blocks:\n",
      " |          dãy các blocks\n",
      " |  time_step_global:\n",
      " |          bước thời gian trong toàn bộ vùng tính toán\n",
      " |  state_file:\n",
      " |          file trạng thái tính toán, chứ hai thông số của bước lặp cuối cùng - iter, time\n",
      " |  \n",
      " |  Methods defined here:\n",
      " |  \n",
      " |  __getitem__(self, item)\n",
      " |      Lấy phần tử của dãy Blocks.\n",
      " |  \n",
      " |  __init__(self, meshfile='examples/test1D/test1D.mesh')\n",
      " |      Khởi tạo Blocks từ file lưới \"meshfile\".\n",
      " |  \n",
      " |  export_block_data(self, filename)\n",
      " |      Xuất trường khí động vào file định dạng Tecplot block data.\n",
      " |  \n",
      " |  init_field(self, P_t0=[293.15, 0.0, 0.0, 101325])\n",
      " |      Thiết lập điều kiện ban đầu, ghi trường khí động.\n",
      " |  \n",
      " |  init_field_test1D(self, P_left, P_right)\n",
      " |      Thiết lập điều kiện ban đầu cho test1D, lưới 1 block.\n",
      " |  \n",
      " |  iteration(self, flux_func)\n",
      " |      Thực hiện bước lặp thời gian.\n",
      " |  \n",
      " |  joint(self, joints=None)\n",
      " |      Kết nối các biên có điều kiện biên joint.\n",
      " |      :param  joint_list : [joint_0, joint_1, ...]\n",
      " |              joint_0 = [blk1_id, bound1_id, start_side1_id, end_side1_id,\n",
      " |                         blk2_id, bound2_id, start_side2_id, end_side2_id]\n",
      " |  \n",
      " |  plot_field(self, field='rho', pfunc='pcolor')\n",
      " |      Plot trường khí động. Tốt nhất hãy sử dụng Paraview!\n",
      " |  \n",
      " |  read_field(self)\n",
      " |      Đọc trường khí động.\n",
      " |  \n",
      " |  run(self, solver=<function eu_solver at 0x7f434f496a70>, joints=None, bocos=[[[(<function supersonic_outflow at 0x7f434f4a5dd0>, None, None)], [(<function supersonic_outflow at 0x7f434f4a5dd0>, None, None)], [(<function null at 0x7f434f494200>, None, None)], [(<function null at 0x7f434f494200>, None, None)]]])\n",
      " |      Toàn bộ các bước tính toán trường khí động:\n",
      " |                      joint -> set_boco_list -> read_field -> solve\n",
      " |      :param solver : hàm solver thực hiện các bước lặp  Block.iteration.\n",
      " |  \n",
      " |  set_time_step(self, CFL)\n",
      " |      Xác định bước thời gian trong toàn bộ vùng tính.\n",
      " |  \n",
      " |  write_field(self)\n",
      " |      Ghi trường khí động.\n",
      " |  \n",
      " |  ----------------------------------------------------------------------\n",
      " |  Data descriptors defined here:\n",
      " |  \n",
      " |  __dict__\n",
      " |      dictionary for instance variables (if defined)\n",
      " |  \n",
      " |  __weakref__\n",
      " |      list of weak references to the object (if defined)\n",
      "\n"
     ]
    }
   ],
   "source": [
    "help(Classes.Blocks)"
   ]
  },
  {
   "cell_type": "markdown",
   "metadata": {},
   "source": [
    "## 3. Điều kiện biên\n",
    "\n",
    "Trong version 2 ngoài các điều kiện biên **farfield, supersonic_inflow, supersonic_outflow, no_slip, joint** có thêm các điều kiện biên **inflow** cho cả hai trường hợp trên âm và dưới âm, **outflow** với áp suất tại biên cố định (back pressure), điều kiện biên **symmetry** (giống điều kiện biên  **wall slip** cho dòng không nhớt), và điều kiện **null** dùng cho các test 1D. Các điều kiện biên được xác định thông qua các **bất biến Riemann** của hệ phương trình Euler 2D. Như đã giới thiệu ở phần 2, phần 3 **Thực hành CFD với Python!** [https://github.com/sangvn], hệ phương trình Euler có 3 đường đặc trưng tương ứng 3 trị riêng $$V_n-c, V_n, V_n+c $$ với $V_n, c$ là vận tốc pháp tuyến và vận tốc âm thanh. Tương ứng với 3 đường đặc trưng có 3 **bất biến Riemann là những đại lượng không đổi dọc theo đường đặc trưng**: \n",
    "$$R_{-} = V_n - \\frac{2c}{\\gamma - 1}, R = \\frac{p}{\\rho^\\gamma}, R_{+} = V_n + \\frac{2c}{\\gamma - 1}$$\n",
    "\n",
    "Hướng của các đường đặc trưng phụ thuộc vào vận tốc $V_n, c$. Căn cứ hướng các đường đặc trưng hai bên biên, ta xác định được các thông số trên biên. Ví dụ trường hợp như ở hình dưới:\n",
    "\n",
    "<img src=\"img/Riemann.jpg\" width = \"500\" >\n",
    "\n",
    "Ta có: $$R_{b-} = R_{r-}, R_{b} = R_{l}, R_{b+} = R_{l+}.$$\n",
    "\n",
    "Trường hợp không có đầy đủ thông số hai bên trái phải của biên, ví dụ điều kiện biên **outflow**, ta cần xác định một thông số nào đó trên biên, ví dụ áp suất, vận tốc... Điều kiện biên sẽ được giới thiệu chi tiết trong các phần tiếp theo của **Thực hành CFD với Python!**."
   ]
  },
  {
   "cell_type": "markdown",
   "metadata": {},
   "source": [
    "## 4. Chạy chương trình\n",
    "\n",
    "Nhờ sự thay đổi trong cấu trúc dữ liệu, đặc biệc là có thêm lớp dữ liệu **Blocks**, việc thiết lập thông số bài toán và chạy chương trình mô phỏng trở nên rất ngắn gọn, thuận tiện. Cụ thể về các bước chạy mô phỏng (xem trong module **run.py**): \n",
    "\n",
    "* Khởi tạo Blocks: \n",
    "        blocks = Blocks()\n",
    "* Thiết lập điều kiện ban đầu: \n",
    "        blocks.init_field()\n",
    "        \n",
    "    Nếu muốn chạy tiếp kết quả đã có từ lần chạy trước thì bước này không cần thiết. Ví dụ, lần 1 tính dòng chảy tại thời điểm t=1s, lần 2 - tại thời điểm t=2s, khi đó kết quả lần 1 sẽ là điều kiện ban đầu của lần 2. Chương trình sẽ tự động tìm kiếm kết quả lần 1 được ghi trong file **.field**. Nếu lệnh init_field() được gọi, quá trình tính toán sẽ bắt đầu lại từ thời điểm t=0s nên sẽ tốn nhiều thời gian hơn.\n",
    "* Thực hiện các bước lặp tính toán:\n",
    "        blocks.run()\n",
    "* Xuất dữ liệu:\n",
    "        blocks.export_block_data(file_name)\n",
    "        \n",
    "    Mặc định dữ liệu kết quả cuối cùng sẽ được lưu ở định dạng Tecplot Block Data.\n",
    "* Biểu diễn kết quả:\n",
    "        blocks.plot_field(field_name, pfunc)\n",
    "\n",
    "    Trong đó, field_name có thể là 'rho', 'u', 'v', 'p'; lựa chọn pfunc có thể là 'pcolor' và 'contour'. Bước này chỉ cho cái nhìn sơ bộ về kết quả thu được. Để biểu diễn kết quả, tốt nhất hãy dùng phần mềm **Paraview** đã được giới thiệu trong phần 3 \"Thực hành CFD với Python!\". \n",
    "    \n",
    "Vấn đề then chốt là thiết lập các thông số bài toán, các thông số quá trình tính toán. Tất cả các thông số này được thiết lập trong module **setting.py**. Ví dụ cụ thể được xét ở phần sau."
   ]
  },
  {
   "cell_type": "markdown",
   "metadata": {},
   "source": [
    "# 5. Examples \n",
    "\n",
    "Việc thiết lập thông số bài toán và thông số quá trình tính toán, chạy chương trình được thực hiện trong hai module **run.py và setting.py**. Thiết lập module **run.py** rất dễ dàng như giới thiệu ở trên.\n",
    "\n",
    "Trong module setting.py chú ý hai thông số là <b>boco_list và joint_list</b>.\n",
    "\n",
    "Ví dụ **boco_list** các điều kiện biên trên một biên, như ở hình dưới (3 điều kiện biên trên 3 đoạn):\n",
    "\n",
    "<b><center>boco = [(symmetry, id_1, id_2), (no_slip, id_2, id_3), (symmetry, id_3, id_4)]</center></b>\n",
    "\n",
    "trong đó <b>id</b> là số thứ tự của side đầu tiên và side cuối cùng của **mỗi đoạn**. **ID** tương ứng của side đầu và side cuối của **biên** là **None và None**.\n",
    "\n",
    "<img src=\"img/boco.jpg\" width=\"500\">\n",
    "\n",
    "Ví dụ **joint_list** cho hai blocks như hình dưới:\n",
    "\n",
    "<img src=\"img/joint.jpg\" width=\"350\">\n",
    "\n",
    "<b><center>joint = [(1, 1, id1_1, id1_2, 2, 0, id2_1, id2_2)]</center></b>\n",
    "\n",
    "nghĩa là: \n",
    "<b><center>[(block 1, bound 1, start_side_id, end_side_id] joint to [block 2, bound 0, start_side_id, end_side_id)].</center></b>\n",
    "\n",
    "#  5.1 Bài toán dòng chảy trong Nozzle\n",
    "\n",
    "Đây là một trong các bài toán để kiểm tra CFD code của NASA [https://www.grc.nasa.gov/WWW/wind/valid/cdv/cdv01/cdv01.html]\n",
    "\n",
    "<img src=\"img/nozzle.png\">\n",
    "\n",
    "Lưới như trên hình, chỉ có một block kích thước 51x21 điểm lưới.\n",
    "\n",
    "### Module /examples/nozzle/setting.py:"
   ]
  },
  {
   "cell_type": "code",
   "execution_count": 31,
   "metadata": {},
   "outputs": [],
   "source": [
    "# coding: utf-8\n",
    "# Copyright (C) 2019  Nguyen Ngoc Sang, <https://github.com/SangVn>\n",
    "\n",
    "# Bài toán dòng chảy trong Nozzle\n",
    "\n",
    "from lib.functions import Pm2P\n",
    "from lib.fluxes import flux_roe\n",
    "from lib.boco import *\n",
    "\n",
    "# Trước hết cần chỉ rõ đường dẫn của file lưới\n",
    "mesh_file = 'examples/nozzle/cdnozzle.mesh'\n",
    "\n",
    "# Thiết lập thông số dòng chảy tới:\n",
    "# Mach = 0.2, T = 293.15 K, p = 101325.0 Pa, góc tấn alfa = 0.0 độ\n",
    "# Hàm Pm2P xác định các biến nguyên thủy (rho, u, v, p) từ các biến đầu vào trên \n",
    "P_freestream = Pm2P(M=0.2, T=293.15, p=101325.0, alf=0.0)\n",
    "\n",
    "# Đăt điều kiện biên: boco_i = [(name, start_side_index, end_side_index), (...)]\n",
    "def set_boco():\n",
    "    # hàm set_boco_const thiết lập thông số dòng chảy tới và áp suất p_exit tại mặt ra (nếu cần).\n",
    "    # áp suất toàn phần: pt = 104190.585, xét 3 trường hợp p_exit/pt = 0.89, 0.6, 0.16\n",
    "    set_boco_const(Pfree=P_freestream, pexit=104190.585*0.6)\n",
    "    \n",
    "    blk1_bc_0 = [(inflow, None, None)]   # Điều kiện biên bound_0 là inflow\n",
    "    blk1_bc_1 = [(outflow, None, None)]  # Điều kiện biên bound_1 là outflow \n",
    "    blk1_bc_2 = [(symmetry, None, None)] # Điều kiện biên bound_2 là symmetry\n",
    "    blk1_bc_3 = [(symmetry, None, None)] # Điều kiện biên bound_3 là symmetry (hãy thử no_slip để thấy sự khác biệt)\n",
    "    # (..., Non, None) nghĩa là bắt đầu từ side đầu tiên tới side cuối cùng trên biên \n",
    "    blk1_bc_list  = [blk1_bc_0, blk1_bc_1, blk1_bc_2, blk1_bc_3] # list các điều kiện biên của block 1\n",
    "    \n",
    "    boco_list = [blk1_bc_list]\n",
    "    joint_list = None\n",
    "    return boco_list, joint_list\n",
    "\n",
    "boco_list, joint_list = set_boco()\n",
    "\n",
    "# các thông số khác\n",
    "CFL = 1.0\n",
    "time_target = None\n",
    "iter_target = 200\n",
    "\n",
    "# thời điểm ghi kết quả giữa chừng\n",
    "write_field_frequency_time = None\n",
    "write_field_frequency_iter = 100\n",
    "\n",
    "# thời điểm hiển thị các thông số cơ bản của một bước\n",
    "print_frequency_iter = 10\n",
    "\n",
    "# lựa chọn hàm tính flux, hàm flux_roe_fortran đã được include trong lib.boco\n",
    "flux_func = flux_roe_fortran"
   ]
  },
  {
   "cell_type": "markdown",
   "metadata": {},
   "source": [
    "### Chú ý:\n",
    "\n",
    "Nếu **module setting.py trên nằm cùng folder với module run.py** ta chỉ cần chạy module run.py (**command: python run.py**) và thu được kết quả. Nhưng để thuận tiện cho việc tính toán nhiều bài toán khác nhau ta **cho module setting trên vào trong folder của bài toán**, trong trường hợp này là folder **examples/nozzle/**. Trong folder này sẽ chứa tất cả file dữ liệu của bài toán: **file lưới, file .field, solver.state, file export_block_data và module setting.py**. Đồng thời tạo một **module setting.py khác, nằm cùng folder với run.py**, trong module này include tất cả nội dung của module setting ban đầu, và chỉ đường dẫn tới folder bài toán. \n",
    "\n",
    "### Module /setting.py:"
   ]
  },
  {
   "cell_type": "code",
   "execution_count": null,
   "metadata": {},
   "outputs": [],
   "source": [
    "# coding: utf-8\n",
    "# Copyright (C) 2019  Nguyen Ngoc Sang, <https://github.com/SangVn>\n",
    "\n",
    "# ví dụ 1:\n",
    "from examples.nozzle.setting import *\n",
    "path_dir = 'examples/nozzle/'\n",
    "\n",
    "# ví dụ 2:\n",
    "# from examples.wedge.setting import *\n",
    "# path_dir = 'examples/wedge/'\n",
    "\n",
    "# ví dụ 3:\n",
    "# from examples.naca0012.setting import *\n",
    "# path_dir = 'examples/naca0012/'"
   ]
  },
  {
   "cell_type": "markdown",
   "metadata": {},
   "source": [
    "### Module /run.py"
   ]
  },
  {
   "cell_type": "code",
   "execution_count": null,
   "metadata": {},
   "outputs": [],
   "source": [
    "# coding: utf-8\n",
    "# Copyright (C) 2019  Nguyen Ngoc Sang, <https://github.com/SangVn>\n",
    "\n",
    "from lib.data import Blocks\n",
    "\n",
    "def run():\n",
    "    blocks = Blocks()\n",
    "    blocks.init_field()\n",
    "    blocks.run()\n",
    "    blocks.export_block_data('field_bd.dat')\n",
    "    blocks.plot_field(field='rho', pfunc='pcolor')\n",
    "    \n",
    "if __name__ == '__main__':\n",
    "    run()"
   ]
  },
  {
   "cell_type": "markdown",
   "metadata": {},
   "source": [
    "## Chạy chương trình\n",
    "\n",
    "Để chạy và biên dịch chương trình có thể dùng PyCharm, hoặc dùng câu lệnh:\n",
    "\n",
    "**python run.py**.\n",
    "\n",
    "Màn hình hiển thị:"
   ]
  },
  {
   "cell_type": "code",
   "execution_count": null,
   "metadata": {},
   "outputs": [],
   "source": [
    "Import mesh from: examples/nozzle/cdnozzle.mesh\n",
    "\n",
    "The time taken by init_block is 0.058257 seconds!\n",
    "The time taken by init_field is 0.002172 seconds!\n",
    "**************************************************\n",
    "The time taken by read_field is 0.004180 seconds!\n",
    "\n",
    "iteration: 50, dt: 0.000021, time: 0.001121\n",
    "iteration: 100, dt: 0.000020, time: 0.002142\n",
    "\n",
    "write_field at iteration: 100, time: 0.002142\n",
    "\n",
    "iteration: 150, dt: 0.000020, time: 0.003129\n",
    "iteration: 200, dt: 0.000019, time: 0.004104\n",
    "\n",
    "The time taken by solver is 3.033647 seconds!\n",
    "**************************************************\n",
    "Write block data to: examples/nozzle/field_bd.dat"
   ]
  },
  {
   "cell_type": "markdown",
   "metadata": {},
   "source": [
    "### Khác biệt tốc độ khi sử dụng flux_roe_python và flux_roe_fortran \n",
    "\n",
    "Cũng với các thông số như trên, nếu sử dụng flux_roe_python, thời gian tính toán sẽ vào khoảng 14 đến 18 giây. Nghĩa là tốc độ tính toán tăng lên khoảng 5 lần.\n",
    "\n",
    "## Kết quả\n",
    "\n",
    "Sử dụng Paraview để biểu diễn kết quả thu được cho ba trường hợp: `p_exit/pt = 0.89, 0.6, 0.16`.\n",
    "\n",
    "<img src=\"img/nozzle_1.png\" width=\"800\">\n",
    "\n",
    "<img src=\"img/nozzle_2.png\" width=\"800\">\n",
    "\n",
    "<img src=\"img/nozzle_3.png\" width=\"800\">\n",
    "\n",
    "\n",
    "<b>Tương tự như trên, các bạn thiết lập và tiến hành mô phỏng cho các bài toán hai chiều khác.</b>\n",
    "\n",
    "# 5.2 Test 1D\n",
    "\n",
    "**VnCFD_2D_v2** có thể dùng để giải các bài toán dòng chảy một chiều như trong phần 2 **Thực hành CFD với Python!**. Khi đó thay vì gọi hàm **blocks.init_field()**, cần sử dụng **blocks.init_field_test1D(P_left, P_right)**. Điều kiện biên cho vùng tính toán: **(suppersonic_outflow,  suppersonic_outflow,  null, null)**.\n",
    "\n",
    "Shock Tube:\n",
    "\n",
    "<img src=\"img/test1D_1.png\" width=\"700\">\n",
    "\n",
    "<img src=\"img/test1D_2.png\" width=\"800\">"
   ]
  },
  {
   "cell_type": "markdown",
   "metadata": {},
   "source": [
    "# 6. Kết luận\n",
    "\n",
    "**VnCFD_2D_v2** có nhiều điểm vượt trội so với phiên bản v1, nhưng việc đặt điều kiện biên và điều kiện joint còn khá phức tạp.\n",
    "\n",
    "Phiên bản tiếp theo **VnCFD_2D_v3** sẽ có thêm solver cho hệ phương trình **Navier-Stokes**.\n",
    "\n",
    "Việc tìm hiểu cấu trúc và cách sử dụng chương trình là một phần của khóa học **Thực hành CFD với Python!**. \n",
    "\n",
    "Để hoàn thiện chương trình, rất mong các bạn sử dụng và đóng góp ý kiến.\n",
    "\n",
    "**Hẹn gặp lại và chúc các bạn thành công!**"
   ]
  },
  {
   "cell_type": "code",
   "execution_count": null,
   "metadata": {},
   "outputs": [],
   "source": []
  }
 ],
 "metadata": {
  "kernelspec": {
   "display_name": "Python 3",
   "language": "python",
   "name": "python3"
  },
  "language_info": {
   "codemirror_mode": {
    "name": "ipython",
    "version": 3
   },
   "file_extension": ".py",
   "mimetype": "text/x-python",
   "name": "python",
   "nbconvert_exporter": "python",
   "pygments_lexer": "ipython3",
   "version": "3.7.4"
  }
 },
 "nbformat": 4,
 "nbformat_minor": 2
}
